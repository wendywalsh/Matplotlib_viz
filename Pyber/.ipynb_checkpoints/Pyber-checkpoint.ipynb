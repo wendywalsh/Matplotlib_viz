{
 "cells": [
  {
   "cell_type": "code",
   "execution_count": 1,
   "metadata": {
    "collapsed": true
   },
   "outputs": [],
   "source": [
    "import numpy as np\n",
    "import pandas as pd\n",
    "import matplotlib.pyplot as plt\n",
    "import os"
   ]
  },
  {
   "cell_type": "code",
   "execution_count": 2,
   "metadata": {
    "collapsed": true
   },
   "outputs": [],
   "source": [
    "# Raw data of city csv\n",
    "filepath = os.path.join(\"raw_data/city_data.csv\")\n",
    "city_raw_df = pd.read_csv(filepath, low_memory=\"false\")\n",
    "# raw data of ride csv\n",
    "filepath2 = os.path.join(\"raw_data/ride_data.csv\")\n",
    "ride_raw_df = pd.read_csv(filepath2, low_memory=\"false\")\n",
    "# merged to raw data tables\n",
    "merged = pd.merge(city_raw_df, ride_raw_df, on=\"city\")"
   ]
  },
  {
   "cell_type": "code",
   "execution_count": 3,
   "metadata": {},
   "outputs": [
    {
     "data": {
      "text/html": [
       "<div>\n",
       "<style>\n",
       "    .dataframe thead tr:only-child th {\n",
       "        text-align: right;\n",
       "    }\n",
       "\n",
       "    .dataframe thead th {\n",
       "        text-align: left;\n",
       "    }\n",
       "\n",
       "    .dataframe tbody tr th {\n",
       "        vertical-align: top;\n",
       "    }\n",
       "</style>\n",
       "<table border=\"1\" class=\"dataframe\">\n",
       "  <thead>\n",
       "    <tr style=\"text-align: right;\">\n",
       "      <th></th>\n",
       "      <th>city</th>\n",
       "      <th>driver_count</th>\n",
       "      <th>type</th>\n",
       "      <th>date</th>\n",
       "      <th>fare</th>\n",
       "      <th>ride_id</th>\n",
       "      <th>color ref</th>\n",
       "    </tr>\n",
       "  </thead>\n",
       "  <tbody>\n",
       "    <tr>\n",
       "      <th>0</th>\n",
       "      <td>Kelseyland</td>\n",
       "      <td>63</td>\n",
       "      <td>Urban</td>\n",
       "      <td>2016-08-19 04:27:52</td>\n",
       "      <td>5.51</td>\n",
       "      <td>6246006544795</td>\n",
       "      <td>gold</td>\n",
       "    </tr>\n",
       "    <tr>\n",
       "      <th>1</th>\n",
       "      <td>Kelseyland</td>\n",
       "      <td>63</td>\n",
       "      <td>Urban</td>\n",
       "      <td>2016-04-17 06:59:50</td>\n",
       "      <td>5.54</td>\n",
       "      <td>7466473222333</td>\n",
       "      <td>gold</td>\n",
       "    </tr>\n",
       "    <tr>\n",
       "      <th>2</th>\n",
       "      <td>Kelseyland</td>\n",
       "      <td>63</td>\n",
       "      <td>Urban</td>\n",
       "      <td>2016-05-04 15:06:07</td>\n",
       "      <td>30.54</td>\n",
       "      <td>2140501382736</td>\n",
       "      <td>gold</td>\n",
       "    </tr>\n",
       "    <tr>\n",
       "      <th>3</th>\n",
       "      <td>Kelseyland</td>\n",
       "      <td>63</td>\n",
       "      <td>Urban</td>\n",
       "      <td>2016-01-25 20:44:56</td>\n",
       "      <td>12.08</td>\n",
       "      <td>1896987891309</td>\n",
       "      <td>gold</td>\n",
       "    </tr>\n",
       "    <tr>\n",
       "      <th>4</th>\n",
       "      <td>Kelseyland</td>\n",
       "      <td>63</td>\n",
       "      <td>Urban</td>\n",
       "      <td>2016-08-09 18:19:47</td>\n",
       "      <td>17.91</td>\n",
       "      <td>8784212854829</td>\n",
       "      <td>gold</td>\n",
       "    </tr>\n",
       "  </tbody>\n",
       "</table>\n",
       "</div>"
      ],
      "text/plain": [
       "         city  driver_count   type                 date   fare        ride_id  \\\n",
       "0  Kelseyland            63  Urban  2016-08-19 04:27:52   5.51  6246006544795   \n",
       "1  Kelseyland            63  Urban  2016-04-17 06:59:50   5.54  7466473222333   \n",
       "2  Kelseyland            63  Urban  2016-05-04 15:06:07  30.54  2140501382736   \n",
       "3  Kelseyland            63  Urban  2016-01-25 20:44:56  12.08  1896987891309   \n",
       "4  Kelseyland            63  Urban  2016-08-09 18:19:47  17.91  8784212854829   \n",
       "\n",
       "  color ref  \n",
       "0      gold  \n",
       "1      gold  \n",
       "2      gold  \n",
       "3      gold  \n",
       "4      gold  "
      ]
     },
     "execution_count": 3,
     "metadata": {},
     "output_type": "execute_result"
    }
   ],
   "source": [
    "#  Created new table to add oolumn for color reference for type of city so that able to\n",
    "#  complete scatter due to inability to set color after setting up inital plot in firt trial\n",
    "color_df = pd.DataFrame({\"type\": [\"Urban\", \"Suburban\", \"Rural\"],\n",
    "                         \"color ref\": [\"gold\", \"lightskyblue\", \"lightcoral\"]})\n",
    "# merge color_df with merged\n",
    "merged_with_colorref = pd.merge(merged, color_df, on=\"type\")\n",
    "merged_with_colorref.head()"
   ]
  },
  {
   "cell_type": "markdown",
   "metadata": {},
   "source": [
    "## Final table used to create scatter plot"
   ]
  },
  {
   "cell_type": "code",
   "execution_count": 4,
   "metadata": {},
   "outputs": [
    {
     "data": {
      "text/html": [
       "<div>\n",
       "<style>\n",
       "    .dataframe thead tr:only-child th {\n",
       "        text-align: right;\n",
       "    }\n",
       "\n",
       "    .dataframe thead th {\n",
       "        text-align: left;\n",
       "    }\n",
       "\n",
       "    .dataframe tbody tr th {\n",
       "        vertical-align: top;\n",
       "    }\n",
       "</style>\n",
       "<table border=\"1\" class=\"dataframe\">\n",
       "  <thead>\n",
       "    <tr style=\"text-align: right;\">\n",
       "      <th></th>\n",
       "      <th>city</th>\n",
       "      <th>driver_count</th>\n",
       "      <th>type</th>\n",
       "      <th>color ref</th>\n",
       "      <th>No. of rides</th>\n",
       "      <th>Avg Fare</th>\n",
       "    </tr>\n",
       "  </thead>\n",
       "  <tbody>\n",
       "    <tr>\n",
       "      <th>0</th>\n",
       "      <td>Alvarezhaven</td>\n",
       "      <td>21</td>\n",
       "      <td>Urban</td>\n",
       "      <td>gold</td>\n",
       "      <td>31</td>\n",
       "      <td>23.93</td>\n",
       "    </tr>\n",
       "    <tr>\n",
       "      <th>1</th>\n",
       "      <td>Alyssaberg</td>\n",
       "      <td>67</td>\n",
       "      <td>Urban</td>\n",
       "      <td>gold</td>\n",
       "      <td>26</td>\n",
       "      <td>20.61</td>\n",
       "    </tr>\n",
       "    <tr>\n",
       "      <th>2</th>\n",
       "      <td>Anitamouth</td>\n",
       "      <td>16</td>\n",
       "      <td>Suburban</td>\n",
       "      <td>lightskyblue</td>\n",
       "      <td>9</td>\n",
       "      <td>37.32</td>\n",
       "    </tr>\n",
       "    <tr>\n",
       "      <th>3</th>\n",
       "      <td>Antoniomouth</td>\n",
       "      <td>21</td>\n",
       "      <td>Urban</td>\n",
       "      <td>gold</td>\n",
       "      <td>22</td>\n",
       "      <td>23.62</td>\n",
       "    </tr>\n",
       "    <tr>\n",
       "      <th>4</th>\n",
       "      <td>Aprilchester</td>\n",
       "      <td>49</td>\n",
       "      <td>Urban</td>\n",
       "      <td>gold</td>\n",
       "      <td>19</td>\n",
       "      <td>21.98</td>\n",
       "    </tr>\n",
       "  </tbody>\n",
       "</table>\n",
       "</div>"
      ],
      "text/plain": [
       "           city  driver_count      type     color ref  No. of rides  Avg Fare\n",
       "0  Alvarezhaven            21     Urban          gold            31     23.93\n",
       "1    Alyssaberg            67     Urban          gold            26     20.61\n",
       "2    Anitamouth            16  Suburban  lightskyblue             9     37.32\n",
       "3  Antoniomouth            21     Urban          gold            22     23.62\n",
       "4  Aprilchester            49     Urban          gold            19     21.98"
      ]
     },
     "execution_count": 4,
     "metadata": {},
     "output_type": "execute_result"
    }
   ],
   "source": [
    "# group by city, drive_count, type, and aggregate date, fare\n",
    "grouped = merged_with_colorref.groupby([\"city\", \"driver_count\", \"type\", \"color ref\"]).agg({\n",
    "    \"date\": \"count\", \"fare\": \"mean\"}).reset_index()\n",
    "grouped = grouped.rename(columns={\"date\": \"No. of rides\", \"fare\": \"Avg Fare\"})\n",
    "grouped = pd.DataFrame(grouped)\n",
    "grouped = grouped.round(2)\n",
    "grouped.head()"
   ]
  },
  {
   "cell_type": "code",
   "execution_count": 5,
   "metadata": {},
   "outputs": [
    {
     "data": {
      "text/plain": [
       "<matplotlib.collections.PathCollection at 0x119babd30>"
      ]
     },
     "execution_count": 5,
     "metadata": {},
     "output_type": "execute_result"
    }
   ],
   "source": [
    "plt.scatter(grouped[\"No. of rides\"], grouped[\"Avg Fare\"],\n",
    "            s=grouped[\"driver_count\"], c=grouped[\"color ref\"])\n",
    "# plt.show()"
   ]
  },
  {
   "cell_type": "code",
   "execution_count": 6,
   "metadata": {},
   "outputs": [
    {
     "data": {
      "text/plain": [
       "array([ 0,  5, 10, 15, 20, 25, 30, 35, 40])"
      ]
     },
     "execution_count": 6,
     "metadata": {},
     "output_type": "execute_result"
    }
   ],
   "source": [
    "# tick marks x axis\n",
    "x_axis = np.arange(0, grouped[\"No. of rides\"].max() + 10, 5)\n",
    "x_axis"
   ]
  },
  {
   "cell_type": "code",
   "execution_count": 7,
   "metadata": {},
   "outputs": [
    {
     "data": {
      "image/png": "[encoded data removed]",
      "text/plain": [
       "<matplotlib.figure.Figure at 0x119a1eef0>"
      ]
     },
     "metadata": {},
     "output_type": "display_data"
    }
   ],
   "source": [
    "# Place a legend on the chart in what matplotlib believes to be the \"best\" location\n",
    "plt.xticks(x_axis)\n",
    "\n",
    "plt.legend(grouped[\"type\"], loc=\"best\")\n",
    "\n",
    "\n",
    "plt.title(\"Pyber Ride Sharing Data (2016)\")\n",
    "plt.xlabel(\"Total Number of Rides (Per City)\")\n",
    "plt.ylabel(\"Average Fare ($)\")\n",
    "# plt.text(35,38,\"Note)\n",
    "\n",
    "# Print our chart to the screen\n",
    "plt.show()"
   ]
  },
  {
   "cell_type": "markdown",
   "metadata": {},
   "source": [
    "# Total fares by city type"
   ]
  },
  {
   "cell_type": "code",
   "execution_count": 8,
   "metadata": {},
   "outputs": [
    {
     "data": {
      "text/html": [
       "<div>\n",
       "<style>\n",
       "    .dataframe thead tr:only-child th {\n",
       "        text-align: right;\n",
       "    }\n",
       "\n",
       "    .dataframe thead th {\n",
       "        text-align: left;\n",
       "    }\n",
       "\n",
       "    .dataframe tbody tr th {\n",
       "        vertical-align: top;\n",
       "    }\n",
       "</style>\n",
       "<table border=\"1\" class=\"dataframe\">\n",
       "  <thead>\n",
       "    <tr style=\"text-align: right;\">\n",
       "      <th></th>\n",
       "      <th>fare</th>\n",
       "      <th>percent</th>\n",
       "    </tr>\n",
       "    <tr>\n",
       "      <th>type</th>\n",
       "      <th></th>\n",
       "      <th></th>\n",
       "    </tr>\n",
       "  </thead>\n",
       "  <tbody>\n",
       "    <tr>\n",
       "      <th>Rural</th>\n",
       "      <td>4255.09</td>\n",
       "      <td>0.065798</td>\n",
       "    </tr>\n",
       "    <tr>\n",
       "      <th>Suburban</th>\n",
       "      <td>20335.69</td>\n",
       "      <td>0.314458</td>\n",
       "    </tr>\n",
       "    <tr>\n",
       "      <th>Urban</th>\n",
       "      <td>40078.34</td>\n",
       "      <td>0.619745</td>\n",
       "    </tr>\n",
       "  </tbody>\n",
       "</table>\n",
       "</div>"
      ],
      "text/plain": [
       "              fare   percent\n",
       "type                        \n",
       "Rural      4255.09  0.065798\n",
       "Suburban  20335.69  0.314458\n",
       "Urban     40078.34  0.619745"
      ]
     },
     "execution_count": 8,
     "metadata": {},
     "output_type": "execute_result"
    }
   ],
   "source": [
    "#% of Total Fares by City Type\n",
    "pie_fare = merged.groupby(\"type\").agg({\"fare\": \"sum\"})\n",
    "\n",
    "percent_fare = pie_fare[\"fare\"]/pie_fare[\"fare\"].sum()\n",
    "pie_fare[\"percent\"] = percent_fare\n",
    "pie_fare"
   ]
  },
  {
   "cell_type": "code",
   "execution_count": 9,
   "metadata": {},
   "outputs": [
    {
     "data": {
      "image/png": "[encoded data removed]",
      "text/plain": [
       "<matplotlib.figure.Figure at 0x119b748d0>"
      ]
     },
     "metadata": {},
     "output_type": "display_data"
    }
   ],
   "source": [
    "labels = [\"Rural\", \"Suburban\", \"Urban\"]\n",
    "size = pie_fare[\"percent\"]\n",
    "color = [\"lightcoral\", \"lightskyblue\", \"gold\"]\n",
    "explode = [0.1, 0.1, 0.1]\n",
    "plt.pie(size, explode=explode, labels=labels, colors=color,\n",
    "        autopct=\"%1.1f%%\", shadow=True, startangle=140)\n",
    "plt.title(\"% of Total Fares by City Type\")\n",
    "plt.show()"
   ]
  },
  {
   "cell_type": "markdown",
   "metadata": {},
   "source": [
    "# Total rides by city type"
   ]
  },
  {
   "cell_type": "code",
   "execution_count": 10,
   "metadata": {},
   "outputs": [
    {
     "data": {
      "text/html": [
       "<div>\n",
       "<style>\n",
       "    .dataframe thead tr:only-child th {\n",
       "        text-align: right;\n",
       "    }\n",
       "\n",
       "    .dataframe thead th {\n",
       "        text-align: left;\n",
       "    }\n",
       "\n",
       "    .dataframe tbody tr th {\n",
       "        vertical-align: top;\n",
       "    }\n",
       "</style>\n",
       "<table border=\"1\" class=\"dataframe\">\n",
       "  <thead>\n",
       "    <tr style=\"text-align: right;\">\n",
       "      <th></th>\n",
       "      <th>No. of rides</th>\n",
       "      <th>Total Rides</th>\n",
       "    </tr>\n",
       "    <tr>\n",
       "      <th>type</th>\n",
       "      <th></th>\n",
       "      <th></th>\n",
       "    </tr>\n",
       "  </thead>\n",
       "  <tbody>\n",
       "    <tr>\n",
       "      <th>Rural</th>\n",
       "      <td>125</td>\n",
       "      <td>0.051932</td>\n",
       "    </tr>\n",
       "    <tr>\n",
       "      <th>Suburban</th>\n",
       "      <td>657</td>\n",
       "      <td>0.272954</td>\n",
       "    </tr>\n",
       "    <tr>\n",
       "      <th>Urban</th>\n",
       "      <td>1625</td>\n",
       "      <td>0.675114</td>\n",
       "    </tr>\n",
       "  </tbody>\n",
       "</table>\n",
       "</div>"
      ],
      "text/plain": [
       "          No. of rides  Total Rides\n",
       "type                               \n",
       "Rural              125     0.051932\n",
       "Suburban           657     0.272954\n",
       "Urban             1625     0.675114"
      ]
     },
     "execution_count": 10,
     "metadata": {},
     "output_type": "execute_result"
    }
   ],
   "source": [
    "#% of Total Rides by City Type\n",
    "pie_rides = grouped.groupby(\"type\").agg({\"No. of rides\": \"sum\"})\n",
    "total_rides = pie_rides[\"No. of rides\"]/pie_rides[\"No. of rides\"].sum()\n",
    "pie_rides[\"Total Rides\"] = total_rides\n",
    "\n",
    "pie_rides"
   ]
  },
  {
   "cell_type": "code",
   "execution_count": 11,
   "metadata": {},
   "outputs": [
    {
     "data": {
      "image/png": "[encoded data removed]",
      "text/plain": [
       "<matplotlib.figure.Figure at 0x119cdf278>"
      ]
     },
     "metadata": {},
     "output_type": "display_data"
    }
   ],
   "source": [
    "labels = [\"Rural\", \"Suburban\", \"Urban\"]\n",
    "size = pie_rides[\"Total Rides\"]\n",
    "color = [\"lightcoral\", \"lightskyblue\", \"gold\"]\n",
    "explode = [0, 0, 0]\n",
    "plt.pie(size, explode=explode, labels=labels, colors=color,\n",
    "        autopct=\"%1.1f%%\", shadow=True, startangle=360)\n",
    "plt.title(\"% of Total Rides by City Type\")\n",
    "plt.show()"
   ]
  },
  {
   "cell_type": "markdown",
   "metadata": {},
   "source": [
    "# Total Drivers by city type"
   ]
  },
  {
   "cell_type": "code",
   "execution_count": 12,
   "metadata": {},
   "outputs": [
    {
     "data": {
      "text/html": [
       "<div>\n",
       "<style>\n",
       "    .dataframe thead tr:only-child th {\n",
       "        text-align: right;\n",
       "    }\n",
       "\n",
       "    .dataframe thead th {\n",
       "        text-align: left;\n",
       "    }\n",
       "\n",
       "    .dataframe tbody tr th {\n",
       "        vertical-align: top;\n",
       "    }\n",
       "</style>\n",
       "<table border=\"1\" class=\"dataframe\">\n",
       "  <thead>\n",
       "    <tr style=\"text-align: right;\">\n",
       "      <th></th>\n",
       "      <th>driver_count</th>\n",
       "      <th>Total Drivers</th>\n",
       "    </tr>\n",
       "    <tr>\n",
       "      <th>type</th>\n",
       "      <th></th>\n",
       "      <th></th>\n",
       "    </tr>\n",
       "  </thead>\n",
       "  <tbody>\n",
       "    <tr>\n",
       "      <th>Rural</th>\n",
       "      <td>104</td>\n",
       "      <td>0.031054</td>\n",
       "    </tr>\n",
       "    <tr>\n",
       "      <th>Suburban</th>\n",
       "      <td>638</td>\n",
       "      <td>0.190505</td>\n",
       "    </tr>\n",
       "    <tr>\n",
       "      <th>Urban</th>\n",
       "      <td>2607</td>\n",
       "      <td>0.778441</td>\n",
       "    </tr>\n",
       "  </tbody>\n",
       "</table>\n",
       "</div>"
      ],
      "text/plain": [
       "          driver_count  Total Drivers\n",
       "type                                 \n",
       "Rural              104       0.031054\n",
       "Suburban           638       0.190505\n",
       "Urban             2607       0.778441"
      ]
     },
     "execution_count": 12,
     "metadata": {},
     "output_type": "execute_result"
    }
   ],
   "source": [
    "#% of Total Drivers by City Type\n",
    "pie_drivers = grouped.groupby(\"type\").agg({\"driver_count\": \"sum\"})\n",
    "pie_drivers\n",
    "total_drivers = pie_drivers[\"driver_count\"]/pie_drivers[\"driver_count\"].sum()\n",
    "pie_drivers[\"Total Drivers\"] = total_drivers\n",
    "pie_drivers"
   ]
  },
  {
   "cell_type": "code",
   "execution_count": 13,
   "metadata": {},
   "outputs": [
    {
     "data": {
      "image/png": "[encoded data removed]",
      "text/plain": [
       "<matplotlib.figure.Figure at 0x119d80160>"
      ]
     },
     "metadata": {},
     "output_type": "display_data"
    }
   ],
   "source": [
    "labels = [\"Rural\", \"Suburban\", \"Urban\"]\n",
    "size = pie_drivers[\"Total Drivers\"]\n",
    "color = [\"lightcoral\", \"lightskyblue\", \"gold\"]\n",
    "explode = [0.4, 0.3, 0.1]\n",
    "plt.pie(size, explode=explode, labels=labels, colors=color,\n",
    "        autopct=\"%1.1f%%\", shadow=False, startangle=360)\n",
    "plt.title(\"% of Total Drivers by City Type\")\n",
    "plt.show()"
   ]
  }
 ],
 "metadata": {
  "kernelspec": {
   "display_name": "Python 3",
   "language": "python",
   "name": "python3"
  },
  "language_info": {
   "codemirror_mode": {
    "name": "ipython",
    "version": 3
   },
   "file_extension": ".py",
   "mimetype": "text/x-python",
   "name": "python",
   "nbconvert_exporter": "python",
   "pygments_lexer": "ipython3",
   "version": "3.6.1"
  }
 },
 "nbformat": 4,
 "nbformat_minor": 2
}
